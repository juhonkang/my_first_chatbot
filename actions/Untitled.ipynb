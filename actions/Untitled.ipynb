{
 "cells": [
  {
   "cell_type": "code",
   "execution_count": 1,
   "metadata": {},
   "outputs": [
    {
     "name": "stdout",
     "output_type": "stream",
     "text": [
      "      Viện                       Lớp      MSSV      Họ        Đệm    Tên  \\\n",
      "0    KCNTT               CNTT.01-K62  20172931      Lê       Xuân     An   \n",
      "1    KCNTT               CNTT.01-K62  20172940    Phạm       Tuấn    Anh   \n",
      "2    KCNTT               CNTT.01-K62  20172953  Nguyễn       Tiến    Anh   \n",
      "3    KCNTT               CNTT.01-K62  20170045    Phạm       Quốc  Chung   \n",
      "4    KCNTT               CNTT.01-K62  20172992    Trần        Tất    Đắc   \n",
      "..     ...                       ...       ...     ...        ...    ...   \n",
      "796  KCNTT  TT.CNTT Việt Nhật D -K62  20176887    Đặng       Công   Tiến   \n",
      "797  KCNTT  TT.CNTT Việt Nhật D -K62  20176891   Hoàng    Thị Thu  Trang   \n",
      "798  KCNTT  TT.CNTT Việt Nhật D -K62  20176892      Lê  Hoàng Anh  Trung   \n",
      "799  KCNTT  TT.CNTT Việt Nhật D -K62  20176900  Trương        Sơn   Tùng   \n",
      "800  KCNTT  TT.CNTT Việt Nhật D -K62  20176904  Nguyễn    Thị Thu   Uyên   \n",
      "\n",
      "     Ngày sinh     Nơi sinh Gender Dân tộc                 name  \n",
      "0   1999-12-25  Thái Nguyên    Nam    Kinh           Lê Xuân An  \n",
      "1   1999-11-20       Hà Nội    Nam    Kinh        Phạm Tuấn Anh  \n",
      "2   1999-03-23    Thái Bình    Nam    Kinh      Nguyễn Tiến Anh  \n",
      "3   1999-01-10      Nghệ An    Nam    Kinh      Phạm Quốc Chung  \n",
      "4   1999-01-29     Nam Định    Nam    kinh         Trần Tất Đắc  \n",
      "..         ...          ...    ...     ...                  ...  \n",
      "796 1999-12-21    Bắc Giang    Nam    kinh       Đặng Công Tiến  \n",
      "797 1999-12-08    Ninh Bình     Nữ    kinh  Hoàng Thị Thu Trang  \n",
      "798 1999-08-10       Hà Nội    Nam    kinh   Lê Hoàng Anh Trung  \n",
      "799 1999-03-06  Thái Nguyên    Nam    Kinh      Trương Sơn Tùng  \n",
      "800 1999-04-09    Hải Dương     Nữ    Kinh  Nguyễn Thị Thu Uyên  \n",
      "\n",
      "[801 rows x 11 columns]\n"
     ]
    }
   ],
   "source": [
    "import pandas as pd\n",
    "csdl = pd.read_excel(\"csdl.xls\", header=1)\n",
    "csdl['name']=csdl[\"Họ\"]+' '+csdl['Đệm']+' '+csdl[\"Tên\"]\n",
    "print(csdl)"
   ]
  },
  {
   "cell_type": "code",
   "execution_count": null,
   "metadata": {},
   "outputs": [],
   "source": [
    "\n"
   ]
  },
  {
   "cell_type": "code",
   "execution_count": 30,
   "metadata": {},
   "outputs": [
    {
     "name": "stdout",
     "output_type": "stream",
     "text": [
      "Mã số lớp của bạn là CNTT.01-K62\n"
     ]
    }
   ],
   "source": [
    "name = \"Lê Xuân An\"\n",
    "dob = \"25-12-1999\"\n",
    "d, m ,y = dob.split('-')\n",
    "dob_tst = pd.Timestamp(int(y), int(m), int(d), 0)\n",
    "#logic -> find ans\n",
    "is_name = csdl['name']==name\n",
    "is_dob = csdl['Ngày sinh']==dob_tst\n",
    "id_mssv= csdl[is_name & is_dob][\"Lớp\"][0]\n",
    "#final\n",
    "message =\"Mã số lớp của bạn là {}\".format(id_mssv)\n",
    "print(message)25-1"
   ]
  }
 ],
 "metadata": {
  "kernelspec": {
   "display_name": "Python 3",
   "language": "python",
   "name": "python3"
  },
  "language_info": {
   "codemirror_mode": {
    "name": "ipython",
    "version": 3
   },
   "file_extension": ".py",
   "mimetype": "text/x-python",
   "name": "python",
   "nbconvert_exporter": "python",
   "pygments_lexer": "ipython3",
   "version": "3.8.5"
  }
 },
 "nbformat": 4,
 "nbformat_minor": 4
}
