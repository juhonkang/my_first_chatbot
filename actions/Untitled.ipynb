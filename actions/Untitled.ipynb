{
 "cells": [
  {
   "cell_type": "code",
   "execution_count": 2,
   "metadata": {},
   "outputs": [
    {
     "data": {
      "text/html": [
       "<div>\n",
       "<style scoped>\n",
       "    .dataframe tbody tr th:only-of-type {\n",
       "        vertical-align: middle;\n",
       "    }\n",
       "\n",
       "    .dataframe tbody tr th {\n",
       "        vertical-align: top;\n",
       "    }\n",
       "\n",
       "    .dataframe thead th {\n",
       "        text-align: right;\n",
       "    }\n",
       "</style>\n",
       "<table border=\"1\" class=\"dataframe\">\n",
       "  <thead>\n",
       "    <tr style=\"text-align: right;\">\n",
       "      <th></th>\n",
       "      <th>Viện</th>\n",
       "      <th>Lớp</th>\n",
       "      <th>MSSV</th>\n",
       "      <th>Họ</th>\n",
       "      <th>Đệm</th>\n",
       "      <th>Tên</th>\n",
       "      <th>Ngày sinh</th>\n",
       "      <th>Nơi sinh</th>\n",
       "      <th>Gender</th>\n",
       "      <th>Dân tộc</th>\n",
       "      <th>name</th>\n",
       "    </tr>\n",
       "  </thead>\n",
       "  <tbody>\n",
       "    <tr>\n",
       "      <th>0</th>\n",
       "      <td>KCNTT</td>\n",
       "      <td>CNTT.01-K62</td>\n",
       "      <td>20172931</td>\n",
       "      <td>Lê</td>\n",
       "      <td>Xuân</td>\n",
       "      <td>An</td>\n",
       "      <td>1999-12-25</td>\n",
       "      <td>Thái Nguyên</td>\n",
       "      <td>Nam</td>\n",
       "      <td>Kinh</td>\n",
       "      <td>Lê Xuân An</td>\n",
       "    </tr>\n",
       "    <tr>\n",
       "      <th>1</th>\n",
       "      <td>KCNTT</td>\n",
       "      <td>CNTT.01-K62</td>\n",
       "      <td>20172940</td>\n",
       "      <td>Phạm</td>\n",
       "      <td>Tuấn</td>\n",
       "      <td>Anh</td>\n",
       "      <td>1999-11-20</td>\n",
       "      <td>Hà Nội</td>\n",
       "      <td>Nam</td>\n",
       "      <td>Kinh</td>\n",
       "      <td>Phạm Tuấn Anh</td>\n",
       "    </tr>\n",
       "    <tr>\n",
       "      <th>2</th>\n",
       "      <td>KCNTT</td>\n",
       "      <td>CNTT.01-K62</td>\n",
       "      <td>20172953</td>\n",
       "      <td>Nguyễn</td>\n",
       "      <td>Tiến</td>\n",
       "      <td>Anh</td>\n",
       "      <td>1999-03-23</td>\n",
       "      <td>Thái Bình</td>\n",
       "      <td>Nam</td>\n",
       "      <td>Kinh</td>\n",
       "      <td>Nguyễn Tiến Anh</td>\n",
       "    </tr>\n",
       "    <tr>\n",
       "      <th>3</th>\n",
       "      <td>KCNTT</td>\n",
       "      <td>CNTT.01-K62</td>\n",
       "      <td>20170045</td>\n",
       "      <td>Phạm</td>\n",
       "      <td>Quốc</td>\n",
       "      <td>Chung</td>\n",
       "      <td>1999-01-10</td>\n",
       "      <td>Nghệ An</td>\n",
       "      <td>Nam</td>\n",
       "      <td>Kinh</td>\n",
       "      <td>Phạm Quốc Chung</td>\n",
       "    </tr>\n",
       "    <tr>\n",
       "      <th>4</th>\n",
       "      <td>KCNTT</td>\n",
       "      <td>CNTT.01-K62</td>\n",
       "      <td>20172992</td>\n",
       "      <td>Trần</td>\n",
       "      <td>Tất</td>\n",
       "      <td>Đắc</td>\n",
       "      <td>1999-01-29</td>\n",
       "      <td>Nam Định</td>\n",
       "      <td>Nam</td>\n",
       "      <td>kinh</td>\n",
       "      <td>Trần Tất Đắc</td>\n",
       "    </tr>\n",
       "  </tbody>\n",
       "</table>\n",
       "</div>"
      ],
      "text/plain": [
       "    Viện          Lớp      MSSV      Họ   Đệm    Tên  Ngày sinh     Nơi sinh  \\\n",
       "0  KCNTT  CNTT.01-K62  20172931      Lê  Xuân     An 1999-12-25  Thái Nguyên   \n",
       "1  KCNTT  CNTT.01-K62  20172940    Phạm  Tuấn    Anh 1999-11-20       Hà Nội   \n",
       "2  KCNTT  CNTT.01-K62  20172953  Nguyễn  Tiến    Anh 1999-03-23    Thái Bình   \n",
       "3  KCNTT  CNTT.01-K62  20170045    Phạm  Quốc  Chung 1999-01-10      Nghệ An   \n",
       "4  KCNTT  CNTT.01-K62  20172992    Trần   Tất    Đắc 1999-01-29     Nam Định   \n",
       "\n",
       "  Gender Dân tộc             name  \n",
       "0    Nam    Kinh       Lê Xuân An  \n",
       "1    Nam    Kinh    Phạm Tuấn Anh  \n",
       "2    Nam    Kinh  Nguyễn Tiến Anh  \n",
       "3    Nam    Kinh  Phạm Quốc Chung  \n",
       "4    Nam    kinh     Trần Tất Đắc  "
      ]
     },
     "execution_count": 2,
     "metadata": {},
     "output_type": "execute_result"
    }
   ],
   "source": [
    "import pandas as pd\n",
    "csdl = pd.read_excel(\"csdl.xls\", header=1)\n",
    "csdl['name']=csdl[\"Họ\"]+' '+csdl['Đệm']+' '+csdl[\"Tên\"]\n",
    "csdl.head()"
   ]
  },
  {
   "cell_type": "code",
   "execution_count": null,
   "metadata": {},
   "outputs": [],
   "source": [
    "\n"
   ]
  },
  {
   "cell_type": "code",
   "execution_count": 30,
   "metadata": {},
   "outputs": [
    {
     "name": "stdout",
     "output_type": "stream",
     "text": [
      "Mã số lớp của bạn là CNTT.01-K62\n"
     ]
    }
   ],
   "source": [
    "name = \"Lê Xuân An\"\n",
    "dob = \"25-12-1999\"\n",
    "d, m ,y = dob.split('-')\n",
    "dob_tst = pd.Timestamp(int(y), int(m), int(d), 0)\n",
    "#logic -> find ans\n",
    "is_name = csdl['name']==name\n",
    "is_dob = csdl['Ngày sinh']==dob_tst\n",
    "id_mssv= csdl[is_name & is_dob][\"Lớp\"][0]\n",
    "#final\n",
    "message =\"Mã số lớp của bạn là {}\".format(id_mssv)\n",
    "print(message)25-1"
   ]
  }
 ],
 "metadata": {
  "kernelspec": {
   "display_name": "Python 3",
   "language": "python",
   "name": "python3"
  },
  "language_info": {
   "codemirror_mode": {
    "name": "ipython",
    "version": 3
   },
   "file_extension": ".py",
   "mimetype": "text/x-python",
   "name": "python",
   "nbconvert_exporter": "python",
   "pygments_lexer": "ipython3",
   "version": "3.8.5"
  }
 },
 "nbformat": 4,
 "nbformat_minor": 4
}
