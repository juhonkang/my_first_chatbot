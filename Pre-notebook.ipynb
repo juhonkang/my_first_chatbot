{
 "cells": [
  {
   "cell_type": "code",
   "execution_count": 64,
   "id": "ac6dc2d2",
   "metadata": {},
   "outputs": [],
   "source": [
    "from scipy import linalg as LA\n",
    "from numpy import linalg as nLA\n",
    "import numpy as np"
   ]
  },
  {
   "cell_type": "code",
   "execution_count": 65,
   "id": "c2473f9f",
   "metadata": {},
   "outputs": [],
   "source": [
    "A = np.matrix([[7, 2], [-4, 1]])\n"
   ]
  },
  {
   "cell_type": "code",
   "execution_count": 60,
   "id": "8cff948f",
   "metadata": {},
   "outputs": [],
   "source": [
    "def power_matrix(A, n):\n",
    "    la, v = linalg.eig(A)\n",
    "    D, P = np.diag(la), v\n",
    "#     print(np.allclose(A, P@D@LA.inv(P)))\n",
    "#     np.allclose(power_matrix(A, n), nLA.matrix_power(A, n))\n",
    "    return np.around((P@D**n@LA.inv(P)).astype(np.float64), 5)"
   ]
  },
  {
   "cell_type": "code",
   "execution_count": 55,
   "id": "614eb218",
   "metadata": {},
   "outputs": [],
   "source": [
    "def diagonalize(A):\n",
    "    la, v = linalg.eig(A)\n",
    "    D, P = np.diag(la), v\n",
    "    return D,P"
   ]
  },
  {
   "cell_type": "code",
   "execution_count": 56,
   "id": "65123da9",
   "metadata": {},
   "outputs": [],
   "source": [
    "# path_list = [(0,1,4), (0, 2, 4), (1, 2, 2), (1, 5, 1), (2, 3, 1), (3, 5, 2), (4, 5, 4)]\n",
    "# weight_matrix_creation(path_list, 6)\n",
    "def weight_matrix_creation(path_list, n):\n",
    "    \"\"\"path_list: a list with (a,b, c) mean there's a path \n",
    "    between a and  b and get the weight c\"\"\"\n",
    "    W = np.ones((n, n))*-1\n",
    "    for i in range(n):\n",
    "        W[i,i] = 0\n",
    "    for p in path_list:\n",
    "        W[p[0], p[1]] = W[p[1], p[0]] = p[-1]\n",
    "    return W"
   ]
  },
  {
   "cell_type": "code",
   "execution_count": null,
   "id": "6acba58b",
   "metadata": {},
   "outputs": [],
   "source": []
  }
 ],
 "metadata": {
  "kernelspec": {
   "display_name": "Python 3",
   "language": "python",
   "name": "python3"
  },
  "language_info": {
   "codemirror_mode": {
    "name": "ipython",
    "version": 3
   },
   "file_extension": ".py",
   "mimetype": "text/x-python",
   "name": "python",
   "nbconvert_exporter": "python",
   "pygments_lexer": "ipython3",
   "version": "3.8.8"
  }
 },
 "nbformat": 4,
 "nbformat_minor": 5
}
